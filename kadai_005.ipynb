{
  "nbformat": 4,
  "nbformat_minor": 0,
  "metadata": {
    "colab": {
      "provenance": [],
      "authorship_tag": "ABX9TyO8MoatD3mTDGUa/mq8JSIJ",
      "include_colab_link": true
    },
    "kernelspec": {
      "name": "python3",
      "display_name": "Python 3"
    },
    "language_info": {
      "name": "python"
    }
  },
  "cells": [
    {
      "cell_type": "markdown",
      "metadata": {
        "id": "view-in-github",
        "colab_type": "text"
      },
      "source": [
        "<a href=\"https://colab.research.google.com/github/megkko31/samurai-terakoya/blob/main/kadai_005.ipynb\" target=\"_parent\"><img src=\"https://colab.research.google.com/assets/colab-badge.svg\" alt=\"Open In Colab\"/></a>"
      ]
    },
    {
      "cell_type": "code",
      "source": [],
      "metadata": {
        "id": "irZz6Y4cRCMP"
      },
      "execution_count": null,
      "outputs": []
    },
    {
      "cell_type": "code",
      "source": [
        "Top=10\n",
        "Bottom=20\n",
        "Height=5\n",
        "#台形の数値\n",
        "\n",
        "area = (top + bottom) * height  / 2\n",
        "#台形の面積\n",
        "\n",
        "print(f\"{area}cm²\")"
      ],
      "metadata": {
        "colab": {
          "base_uri": "https://localhost:8080/"
        },
        "outputId": "ba1428cb-d588-441a-e107-d956ccbd6914",
        "id": "SWWFlv_VQ85W"
      },
      "execution_count": null,
      "outputs": [
        {
          "output_type": "stream",
          "name": "stdout",
          "text": [
            "75.0cm²\n"
          ]
        }
      ]
    }
  ]
}